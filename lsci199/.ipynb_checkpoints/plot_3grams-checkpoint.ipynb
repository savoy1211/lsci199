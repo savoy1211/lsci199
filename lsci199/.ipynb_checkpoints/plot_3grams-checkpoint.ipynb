{
 "cells": [
  {
   "cell_type": "code",
   "execution_count": 35,
   "metadata": {},
   "outputs": [],
   "source": [
    "import pandas as pd\n",
    "import numpy as np\n",
    "import matplotlib.pyplot as plt"
   ]
  },
  {
   "cell_type": "code",
   "execution_count": 36,
   "metadata": {},
   "outputs": [],
   "source": [
    "file={\n",
    "    \"oi_a0\": [\"3gram_ordered_inbound_alpha0.0_1to5_mpht\"],\n",
    "    \"oi_a0.01\": [\"3gram_ordered_inbound_alpha0.01_1to5_mpht\"],\n",
    "    \"oi_a0.1\": [\"3gram_ordered_inbound_alpha0.1_1to5_mpht\"],\n",
    "    \"oi_a0.25\": [\"3gram_ordered_inbound_alpha0.25_1to5_mpht\"],\n",
    "    \"oi_a0.5\": [\"3gram_ordered_inbound_alpha0.5_1to5_mpht\"],\n",
    "\n",
    "    \"oi_a0.1+\": ['3gram_ordered_inbound_alpha0.1_1to5_mega_text'],\n",
    "    \n",
    "    \"ri_a0\": [\"3gram_random_inbound_alpha0.0_1to5_mpht\"],\n",
    "    \"ri_a0.01\": [\"3gram_random_inbound_alpha0.01_1to5_mpht\"],\n",
    "    \"ri_a0.1\": [\"3gram_random_inbound_alpha0.1_1to5_mpht\"],\n",
    "    \"ri_a0.25\": [\"3gram_random_inbound_alpha0.25_1to5_mpht\"],\n",
    "    \"ri_a0.5\": [\"3gram_random_inbound_alpha0.5_1to5_mpht\"],\n",
    "    \n",
    "    \"ot_ow_i_a0.01\": [\"3gram_ordered_text_ordered_window_inbound_alpha0.01_1to5_mpht\"],\n",
    "    \"ot_ow_i_a0.1\": [\"3gram_ordered_text_ordered_window_inbound_alpha0.1_1to5_mpht\"],\n",
    "    \"ot_rw_i_a0.01\": [\"3gram_ordered_text_random_window_inbound_alpha0.01_1to5_mpht\"],\n",
    "    \"ot_rw_i_a0.1\": [\"3gram_ordered_text_random_window_inbound_alpha0.1_1to5_mpht\"],\n",
    "    \n",
    "    \"rt_ow_i_a0.01\": [\"3gram_random_text_ordered_window_inbound_alpha0.01_1to5_mpht\"],\n",
    "    \"rt_ow_i_a0.1\": [\"3gram_random_text_ordered_window_inbound_alpha0.1_1to5_mpht\"],\n",
    "    \"rt_rw_i_a0.01\": [\"3gram_random_text_random_window_inbound_alpha0.01_1to5_mpht\"],\n",
    "    \"rt_rw_i_a0.1\": [\"3gram_random_text_random_window_inbound_alpha0.1_1to5_mpht\"],\n",
    "}"
   ]
  },
  {
   "cell_type": "code",
   "execution_count": 61,
   "metadata": {},
   "outputs": [
    {
     "data": {
      "text/html": [
       "<div>\n",
       "<style scoped>\n",
       "    .dataframe tbody tr th:only-of-type {\n",
       "        vertical-align: middle;\n",
       "    }\n",
       "\n",
       "    .dataframe tbody tr th {\n",
       "        vertical-align: top;\n",
       "    }\n",
       "\n",
       "    .dataframe thead th {\n",
       "        text-align: right;\n",
       "    }\n",
       "</style>\n",
       "<table border=\"1\" class=\"dataframe\">\n",
       "  <thead>\n",
       "    <tr style=\"text-align: right;\">\n",
       "      <th></th>\n",
       "      <th>h_words</th>\n",
       "      <th>h_wordset</th>\n",
       "      <th>window_size</th>\n",
       "      <th>type</th>\n",
       "    </tr>\n",
       "  </thead>\n",
       "  <tbody>\n",
       "    <tr>\n",
       "      <td>0</td>\n",
       "      <td>9.781539</td>\n",
       "      <td>9.781539</td>\n",
       "      <td>1</td>\n",
       "      <td>oi_a0</td>\n",
       "    </tr>\n",
       "    <tr>\n",
       "      <td>1</td>\n",
       "      <td>6.296139</td>\n",
       "      <td>5.678013</td>\n",
       "      <td>2</td>\n",
       "      <td>oi_a0</td>\n",
       "    </tr>\n",
       "    <tr>\n",
       "      <td>2</td>\n",
       "      <td>2.550456</td>\n",
       "      <td>2.265267</td>\n",
       "      <td>3</td>\n",
       "      <td>oi_a0</td>\n",
       "    </tr>\n",
       "    <tr>\n",
       "      <td>3</td>\n",
       "      <td>-1.179007</td>\n",
       "      <td>-1.438003</td>\n",
       "      <td>4</td>\n",
       "      <td>oi_a0</td>\n",
       "    </tr>\n",
       "    <tr>\n",
       "      <td>4</td>\n",
       "      <td>-4.922380</td>\n",
       "      <td>-5.220598</td>\n",
       "      <td>5</td>\n",
       "      <td>oi_a0</td>\n",
       "    </tr>\n",
       "  </tbody>\n",
       "</table>\n",
       "</div>"
      ],
      "text/plain": [
       "    h_words  h_wordset  window_size   type\n",
       "0  9.781539   9.781539            1  oi_a0\n",
       "1  6.296139   5.678013            2  oi_a0\n",
       "2  2.550456   2.265267            3  oi_a0\n",
       "3 -1.179007  -1.438003            4  oi_a0\n",
       "4 -4.922380  -5.220598            5  oi_a0"
      ]
     },
     "execution_count": 61,
     "metadata": {},
     "output_type": "execute_result"
    }
   ],
   "source": [
    "df_main = pd.DataFrame()\n",
    "i=0\n",
    "for k,v in file.items():\n",
    "    df = pd.read_csv(v[0], index_col=0, parse_dates=True)\n",
    "    df['window_size'] = [1,2,3,4,5]\n",
    "    df['type'] = [k]*5\n",
    "    if i == 0:\n",
    "        df_main = df\n",
    "    else:\n",
    "        df_main.append(df)\n",
    "    i+=1\n",
    "\n",
    "df_main"
   ]
  },
  {
   "cell_type": "code",
   "execution_count": 60,
   "metadata": {},
   "outputs": [
    {
     "data": {
      "text/html": [
       "<div>\n",
       "<style scoped>\n",
       "    .dataframe tbody tr th:only-of-type {\n",
       "        vertical-align: middle;\n",
       "    }\n",
       "\n",
       "    .dataframe tbody tr th {\n",
       "        vertical-align: top;\n",
       "    }\n",
       "\n",
       "    .dataframe thead th {\n",
       "        text-align: right;\n",
       "    }\n",
       "</style>\n",
       "<table border=\"1\" class=\"dataframe\">\n",
       "  <thead>\n",
       "    <tr style=\"text-align: right;\">\n",
       "      <th></th>\n",
       "      <th>h_words</th>\n",
       "      <th>h_wordset</th>\n",
       "      <th>window_size</th>\n",
       "      <th>type</th>\n",
       "    </tr>\n",
       "  </thead>\n",
       "  <tbody>\n",
       "    <tr>\n",
       "      <td>0</td>\n",
       "      <td>9.781539</td>\n",
       "      <td>9.781539</td>\n",
       "      <td>1</td>\n",
       "      <td>oi_a0</td>\n",
       "    </tr>\n",
       "    <tr>\n",
       "      <td>1</td>\n",
       "      <td>6.296139</td>\n",
       "      <td>5.678013</td>\n",
       "      <td>2</td>\n",
       "      <td>oi_a0</td>\n",
       "    </tr>\n",
       "    <tr>\n",
       "      <td>2</td>\n",
       "      <td>2.550456</td>\n",
       "      <td>2.265267</td>\n",
       "      <td>3</td>\n",
       "      <td>oi_a0</td>\n",
       "    </tr>\n",
       "    <tr>\n",
       "      <td>3</td>\n",
       "      <td>-1.179007</td>\n",
       "      <td>-1.438003</td>\n",
       "      <td>4</td>\n",
       "      <td>oi_a0</td>\n",
       "    </tr>\n",
       "    <tr>\n",
       "      <td>4</td>\n",
       "      <td>-4.922380</td>\n",
       "      <td>-5.220598</td>\n",
       "      <td>5</td>\n",
       "      <td>oi_a0</td>\n",
       "    </tr>\n",
       "  </tbody>\n",
       "</table>\n",
       "</div>"
      ],
      "text/plain": [
       "    h_words  h_wordset  window_size   type\n",
       "0  9.781539   9.781539            1  oi_a0\n",
       "1  6.296139   5.678013            2  oi_a0\n",
       "2  2.550456   2.265267            3  oi_a0\n",
       "3 -1.179007  -1.438003            4  oi_a0\n",
       "4 -4.922380  -5.220598            5  oi_a0"
      ]
     },
     "execution_count": 60,
     "metadata": {},
     "output_type": "execute_result"
    }
   ],
   "source": [
    "df_main"
   ]
  },
  {
   "cell_type": "code",
   "execution_count": 6,
   "metadata": {},
   "outputs": [
    {
     "name": "stdout",
     "output_type": "stream",
     "text": [
      "random text, random windows\n"
     ]
    },
    {
     "data": {
      "text/html": [
       "<div>\n",
       "<style scoped>\n",
       "    .dataframe tbody tr th:only-of-type {\n",
       "        vertical-align: middle;\n",
       "    }\n",
       "\n",
       "    .dataframe tbody tr th {\n",
       "        vertical-align: top;\n",
       "    }\n",
       "\n",
       "    .dataframe thead th {\n",
       "        text-align: right;\n",
       "    }\n",
       "</style>\n",
       "<table border=\"1\" class=\"dataframe\">\n",
       "  <thead>\n",
       "    <tr style=\"text-align: right;\">\n",
       "      <th></th>\n",
       "      <th>h_words</th>\n",
       "      <th>h_wordset</th>\n",
       "    </tr>\n",
       "  </thead>\n",
       "  <tbody>\n",
       "    <tr>\n",
       "      <td>0</td>\n",
       "      <td>9.781669</td>\n",
       "      <td>9.781669</td>\n",
       "    </tr>\n",
       "    <tr>\n",
       "      <td>1</td>\n",
       "      <td>12.871795</td>\n",
       "      <td>12.493108</td>\n",
       "    </tr>\n",
       "    <tr>\n",
       "      <td>2</td>\n",
       "      <td>15.438300</td>\n",
       "      <td>15.229241</td>\n",
       "    </tr>\n",
       "    <tr>\n",
       "      <td>3</td>\n",
       "      <td>18.003499</td>\n",
       "      <td>17.558802</td>\n",
       "    </tr>\n",
       "    <tr>\n",
       "      <td>4</td>\n",
       "      <td>20.568718</td>\n",
       "      <td>19.000664</td>\n",
       "    </tr>\n",
       "  </tbody>\n",
       "</table>\n",
       "</div>"
      ],
      "text/plain": [
       "     h_words  h_wordset\n",
       "0   9.781669   9.781669\n",
       "1  12.871795  12.493108\n",
       "2  15.438300  15.229241\n",
       "3  18.003499  17.558802\n",
       "4  20.568718  19.000664"
      ]
     },
     "execution_count": 6,
     "metadata": {},
     "output_type": "execute_result"
    }
   ],
   "source": [
    "df_rt_rw = pd.read_csv(file[\"rt_rw_i_a0.1\"][0], index_col=0, parse_dates=True)\n",
    "print('random text, random windows')\n",
    "df_rt_rw"
   ]
  },
  {
   "cell_type": "code",
   "execution_count": 7,
   "metadata": {},
   "outputs": [
    {
     "name": "stdout",
     "output_type": "stream",
     "text": [
      "random text, ordered windows\n"
     ]
    },
    {
     "data": {
      "text/html": [
       "<div>\n",
       "<style scoped>\n",
       "    .dataframe tbody tr th:only-of-type {\n",
       "        vertical-align: middle;\n",
       "    }\n",
       "\n",
       "    .dataframe tbody tr th {\n",
       "        vertical-align: top;\n",
       "    }\n",
       "\n",
       "    .dataframe thead th {\n",
       "        text-align: right;\n",
       "    }\n",
       "</style>\n",
       "<table border=\"1\" class=\"dataframe\">\n",
       "  <thead>\n",
       "    <tr style=\"text-align: right;\">\n",
       "      <th></th>\n",
       "      <th>h_words</th>\n",
       "      <th>h_wordset</th>\n",
       "    </tr>\n",
       "  </thead>\n",
       "  <tbody>\n",
       "    <tr>\n",
       "      <td>0</td>\n",
       "      <td>9.781669</td>\n",
       "      <td>9.781669</td>\n",
       "    </tr>\n",
       "    <tr>\n",
       "      <td>1</td>\n",
       "      <td>16.626041</td>\n",
       "      <td>15.410786</td>\n",
       "    </tr>\n",
       "    <tr>\n",
       "      <td>2</td>\n",
       "      <td>22.243175</td>\n",
       "      <td>20.039725</td>\n",
       "    </tr>\n",
       "    <tr>\n",
       "      <td>3</td>\n",
       "      <td>27.883611</td>\n",
       "      <td>20.553657</td>\n",
       "    </tr>\n",
       "    <tr>\n",
       "      <td>4</td>\n",
       "      <td>33.489028</td>\n",
       "      <td>20.157125</td>\n",
       "    </tr>\n",
       "  </tbody>\n",
       "</table>\n",
       "</div>"
      ],
      "text/plain": [
       "     h_words  h_wordset\n",
       "0   9.781669   9.781669\n",
       "1  16.626041  15.410786\n",
       "2  22.243175  20.039725\n",
       "3  27.883611  20.553657\n",
       "4  33.489028  20.157125"
      ]
     },
     "execution_count": 7,
     "metadata": {},
     "output_type": "execute_result"
    }
   ],
   "source": [
    "df_rt_ow = pd.read_csv(file[\"rt_ow_i_a0.1\"][0], index_col=0, parse_dates=True)\n",
    "print('random text, ordered windows')\n",
    "df_rt_ow"
   ]
  },
  {
   "cell_type": "code",
   "execution_count": 19,
   "metadata": {},
   "outputs": [
    {
     "name": "stdout",
     "output_type": "stream",
     "text": [
      "ordered text, random windows\n"
     ]
    },
    {
     "data": {
      "text/plain": [
       "{'oi_a0': ['3gram_ordered_inbound_alpha0.0_1to5_mpht'],\n",
       " 'oi_a0.01': ['3gram_ordered_inbound_alpha0.01_1to5_mpht'],\n",
       " 'oi_a0.1': ['3gram_ordered_inbound_alpha0.1_1to5_mpht'],\n",
       " 'oi_a0.25': ['3gram_ordered_inbound_alpha0.25_1to5_mpht'],\n",
       " 'oi_a0.5': ['3gram_ordered_inbound_alpha0.5_1to5_mpht'],\n",
       " 'oi_a0.1+': ['3gram_ordered_inbound_alpha0.1_1to5_mega_text'],\n",
       " 'ri_a0': ['3gram_random_inbound_alpha0.0_1to5_mpht'],\n",
       " 'ri_a0.01': ['3gram_random_inbound_alpha0.01_1to5_mpht'],\n",
       " 'ri_a0.1': ['3gram_random_inbound_alpha0.1_1to5_mpht'],\n",
       " 'ri_a0.25': ['3gram_random_inbound_alpha0.25_1to5_mpht'],\n",
       " 'ri_a0.5': ['3gram_random_inbound_alpha0.5_1to5_mpht'],\n",
       " 'ot_ow_i_a0.01': ['3gram_ordered_text_ordered_window_inbound_alpha0.01_1to5_mpht'],\n",
       " 'ot_ow_i_a0.1': ['3gram_ordered_text_ordered_window_inbound_alpha0.1_1to5_mpht'],\n",
       " 'ot_rw_i_a0.01': ['3gram_ordered_text_random_window_inbound_alpha0.01_1to5_mpht'],\n",
       " 'ot_rw_i_a0.1': ['3gram_ordered_text_random_window_inbound_alpha0.1_1to5_mpht'],\n",
       " 'rt_ow_i_a0.01': ['3gram_random_text_ordered_window_inbound_alpha0.01_1to5_mpht'],\n",
       " 'rt_ow_i_a0.1': ['3gram_random_text_ordered_window_inbound_alpha0.1_1to5_mpht'],\n",
       " 'rt_rw_i_a0.01': ['3gram_random_text_random_window_inbound_alpha0.01_1to5_mpht'],\n",
       " 'rt_rw_i_a0.1': ['3gram_random_text_random_window_inbound_alpha0.1_1to5_mpht']}"
      ]
     },
     "execution_count": 19,
     "metadata": {},
     "output_type": "execute_result"
    }
   ],
   "source": [
    "df_rt_ow = pd.read_csv(file[\"ot_rw_i_a0.1\"][0], index_col=0, parse_dates=True)\n",
    "print('ordered text, random windows')\n",
    "df_rt_ow"
   ]
  },
  {
   "cell_type": "code",
   "execution_count": 22,
   "metadata": {
    "scrolled": true
   },
   "outputs": [
    {
     "data": {
      "text/html": [
       "<div>\n",
       "<style scoped>\n",
       "    .dataframe tbody tr th:only-of-type {\n",
       "        vertical-align: middle;\n",
       "    }\n",
       "\n",
       "    .dataframe tbody tr th {\n",
       "        vertical-align: top;\n",
       "    }\n",
       "\n",
       "    .dataframe thead th {\n",
       "        text-align: right;\n",
       "    }\n",
       "</style>\n",
       "<table border=\"1\" class=\"dataframe\">\n",
       "  <thead>\n",
       "    <tr style=\"text-align: right;\">\n",
       "      <th></th>\n",
       "      <th>h_words</th>\n",
       "      <th>h_wordset</th>\n",
       "      <th>window_size</th>\n",
       "      <th>type</th>\n",
       "    </tr>\n",
       "  </thead>\n",
       "  <tbody>\n",
       "    <tr>\n",
       "      <td>0</td>\n",
       "      <td>9.781669</td>\n",
       "      <td>9.781669</td>\n",
       "      <td>1</td>\n",
       "      <td>oi_a0.1_mpht</td>\n",
       "    </tr>\n",
       "    <tr>\n",
       "      <td>1</td>\n",
       "      <td>11.514786</td>\n",
       "      <td>11.347155</td>\n",
       "      <td>2</td>\n",
       "      <td>oi_a0.1_mpht</td>\n",
       "    </tr>\n",
       "    <tr>\n",
       "      <td>2</td>\n",
       "      <td>14.738297</td>\n",
       "      <td>14.626530</td>\n",
       "      <td>3</td>\n",
       "      <td>oi_a0.1_mpht</td>\n",
       "    </tr>\n",
       "    <tr>\n",
       "      <td>3</td>\n",
       "      <td>17.970768</td>\n",
       "      <td>17.444768</td>\n",
       "      <td>4</td>\n",
       "      <td>oi_a0.1_mpht</td>\n",
       "    </tr>\n",
       "    <tr>\n",
       "      <td>4</td>\n",
       "      <td>21.179998</td>\n",
       "      <td>18.782964</td>\n",
       "      <td>5</td>\n",
       "      <td>oi_a0.1_mpht</td>\n",
       "    </tr>\n",
       "  </tbody>\n",
       "</table>\n",
       "</div>"
      ],
      "text/plain": [
       "     h_words  h_wordset  window_size          type\n",
       "0   9.781669   9.781669            1  oi_a0.1_mpht\n",
       "1  11.514786  11.347155            2  oi_a0.1_mpht\n",
       "2  14.738297  14.626530            3  oi_a0.1_mpht\n",
       "3  17.970768  17.444768            4  oi_a0.1_mpht\n",
       "4  21.179998  18.782964            5  oi_a0.1_mpht"
      ]
     },
     "execution_count": 22,
     "metadata": {},
     "output_type": "execute_result"
    }
   ],
   "source": [
    "name = 'oi_a0.1'\n",
    "# name = \"ot_ow_i_a0.1\"\n",
    "# name = \"oi_a0.1+\"\n",
    "df_oi = pd.read_csv(file[name][0], index_col=0, parse_dates=True)\n",
    "df_oi['window_size'] = [1,2,3,4,5]\n",
    "df_oi['type'] = [name+\"_mpht\"]*5\n",
    "df_oi\n"
   ]
  },
  {
   "cell_type": "code",
   "execution_count": null,
   "metadata": {},
   "outputs": [],
   "source": [
    "# ax = df_oi.plot(x=\"window_size\", y=[\"h_words\", \"h_wordset\"], title=name+\" (trigram)\")\n",
    "# ax.set(xlabel=\"Window Size\", ylabel=\"Entropy\")\n",
    "# ax.set_xticks(range(1,6,1))\n",
    "# df_oi['h_wordorder'] = df_oi['h_words'] - df_oi['h_wordset']\n",
    "\n",
    "# ax = df_oi.plot(x=\"window_size\", y=['h_wordorder'], title=name+\" word order (trigram)\")\n",
    "# ax.set(xlabel=\"Window Size\", ylabel=\"Entropy\")\n",
    "# ax.set_xticks(range(1,6,1))\n",
    "# plt.show()"
   ]
  },
  {
   "cell_type": "code",
   "execution_count": 10,
   "metadata": {},
   "outputs": [
    {
     "data": {
      "image/png": "[encoded data removed]",
      "text/plain": [
       "<Figure size 432x288 with 1 Axes>"
      ]
     },
     "metadata": {
      "needs_background": "light"
     },
     "output_type": "display_data"
    },
    {
     "data": {
      "image/png": "[encoded data removed]",
      "text/plain": [
       "<Figure size 432x288 with 1 Axes>"
      ]
     },
     "metadata": {
      "needs_background": "light"
     },
     "output_type": "display_data"
    }
   ],
   "source": [
    "# name = \"ri_a0.1\"\n",
    "name = \"ot_rw_i_a0.1\"\n",
    "\n",
    "df_ri = pd.read_csv(file[name][0], index_col=0, parse_dates=True)\n",
    "df_ri['window_size'] = [1,2,3,4,5]\n",
    "ax = df_ri.plot(x=\"window_size\", y=[\"h_words\", \"h_wordset\"], title=name+\" (trigram)\")\n",
    "ax.set(xlabel=\"Window Size\", ylabel=\"Entropy\")\n",
    "ax.set_xticks(range(1,6,1))\n",
    "plt.show()\n",
    "df_ri['h_wordorder'] = df_ri['h_words'] - df_ri['h_wordset']\n",
    "# df['max_h_wordorder'] = np.log(np.math.factorial(np.array([int(w) for w in df['window_size']])))\n",
    "\n",
    "ax = df_ri.plot(x=\"window_size\", y=['h_wordorder'], title=name+\" word order (trigram)\")\n",
    "ax.set(xlabel=\"Window Size\", ylabel=\"Entropy\")\n",
    "ax.set_xticks(range(1,6,1))\n",
    "plt.show()"
   ]
  },
  {
   "cell_type": "code",
   "execution_count": null,
   "metadata": {},
   "outputs": [],
   "source": []
  },
  {
   "cell_type": "code",
   "execution_count": 23,
   "metadata": {},
   "outputs": [
    {
     "data": {
      "image/png": "[encoded data removed]",
      "text/plain": [
       "<Figure size 432x288 with 1 Axes>"
      ]
     },
     "metadata": {
      "needs_background": "light"
     },
     "output_type": "display_data"
    }
   ],
   "source": [
    "df_diff = df_oi['h_wordorder'] - df_ri['h_wordorder']\n",
    "\n",
    "ax = df_diff.plot(x=\"window_size\", y=['h_wordorder'], title=name+\" word order (trigram)\")\n",
    "ax.set(xlabel=\"Window Size\", ylabel=\"Entropy\")\n",
    "ax.set_xticks(range(1,6,1))\n",
    "plt.show()"
   ]
  },
  {
   "cell_type": "code",
   "execution_count": 102,
   "metadata": {},
   "outputs": [
    {
     "data": {
      "image/png": "[encoded data removed]",
      "text/plain": [
       "<Figure size 432x288 with 1 Axes>"
      ]
     },
     "metadata": {
      "needs_background": "light"
     },
     "output_type": "display_data"
    }
   ],
   "source": []
  },
  {
   "cell_type": "code",
   "execution_count": null,
   "metadata": {},
   "outputs": [],
   "source": []
  },
  {
   "cell_type": "code",
   "execution_count": null,
   "metadata": {},
   "outputs": [],
   "source": []
  },
  {
   "cell_type": "code",
   "execution_count": 65,
   "metadata": {
    "scrolled": true
   },
   "outputs": [
    {
     "data": {
      "image/png": "[encoded data removed]",
      "text/plain": [
       "<Figure size 432x288 with 1 Axes>"
      ]
     },
     "metadata": {
      "needs_background": "light"
     },
     "output_type": "display_data"
    }
   ],
   "source": [
    "# df['entropy_rate'] = df['h_words'] / df['window_size']\n",
    "# ax = df.plot(x=\"window_size\", y=['entropy_rate'], title=text+\" entropy rate (trigram)\")\n",
    "# ax.set(xlabel=\"n\", ylabel=\"nth-order word entropy rate (bits)\")\n",
    "# ax.set_xticks(range(1,8,1))\n",
    "# plt.show()\n",
    "\n",
    "df['entropy_rate'] = df['h_words'] / df['window_size']\n",
    "ax = df.plot(x=\"window_size\", y=['entropy_rate'], title=text+\" entropy rate (trigram)\")\n",
    "ax.set(xlabel=\"n\", ylabel=\"nth-order word entropy rate (bits)\")\n",
    "ax.set_xticks(range(1,6,1))\n",
    "plt.show()"
   ]
  },
  {
   "cell_type": "code",
   "execution_count": 66,
   "metadata": {},
   "outputs": [
    {
     "data": {
      "image/png": "[encoded data removed]",
      "text/plain": [
       "<Figure size 432x288 with 1 Axes>"
      ]
     },
     "metadata": {
      "needs_background": "light"
     },
     "output_type": "display_data"
    }
   ],
   "source": [
    "# df['unordered_entropy_rate'] = df['h_words'] / df['window_size']\n",
    "# ax = df.plot(x=\"window_size\", y=['unordered_entropy_rate'], title=text+\" unordered entropy rate (trigram)\")\n",
    "# ax.set(xlabel=\"n\", ylabel=\"nth-order unordered word entropy rate (bits)\")\n",
    "# ax.set_xticks(range(1,8,1))\n",
    "# plt.show()\n",
    "\n",
    "df['unordered_entropy_rate'] = df['h_words'] / df['window_size']\n",
    "ax = df.plot(x=\"window_size\", y=['unordered_entropy_rate'], title=text+\" unordered entropy rate (trigram)\")\n",
    "ax.set(xlabel=\"n\", ylabel=\"nth-order unordered word entropy rate (bits)\")\n",
    "ax.set_xticks(range(1,6,1))\n",
    "plt.show()"
   ]
  },
  {
   "cell_type": "code",
   "execution_count": 67,
   "metadata": {},
   "outputs": [
    {
     "data": {
      "image/png": "[encoded data removed]",
      "text/plain": [
       "<Figure size 432x288 with 1 Axes>"
      ]
     },
     "metadata": {
      "needs_background": "light"
     },
     "output_type": "display_data"
    }
   ],
   "source": [
    "# df['entropy_rate_difference'] = (df['h_words'] - df['h_wordset']) / df['window_size']\n",
    "# ax = df.plot(x=\"window_size\", y=['entropy_rate_difference'], title=text+\" entropy rate difference (trigram)\")\n",
    "# ax.set(xlabel=\"n\", ylabel=\"nth-order unordered word entropy rate difference (bits)\")\n",
    "# ax.set_xticks(range(1,8,1))\n",
    "# plt.show()\n",
    "\n",
    "df['entropy_rate_difference'] = (df['h_words'] - df['h_wordset']) / df['window_size']\n",
    "ax = df.plot(x=\"window_size\", y=['entropy_rate_difference'], title=text+\" entropy rate difference (trigram)\")\n",
    "ax.set(xlabel=\"n\", ylabel=\"nth-order unordered word entropy rate difference (bits)\")\n",
    "ax.set_xticks(range(1,6,1))\n",
    "plt.show()\n"
   ]
  },
  {
   "cell_type": "code",
   "execution_count": null,
   "metadata": {},
   "outputs": [],
   "source": []
  },
  {
   "cell_type": "code",
   "execution_count": null,
   "metadata": {},
   "outputs": [],
   "source": []
  },
  {
   "cell_type": "code",
   "execution_count": null,
   "metadata": {},
   "outputs": [],
   "source": []
  },
  {
   "cell_type": "code",
   "execution_count": null,
   "metadata": {},
   "outputs": [],
   "source": []
  },
  {
   "cell_type": "code",
   "execution_count": null,
   "metadata": {},
   "outputs": [],
   "source": []
  }
 ],
 "metadata": {
  "kernelspec": {
   "display_name": "Python 3",
   "language": "python",
   "name": "python3"
  },
  "language_info": {
   "codemirror_mode": {
    "name": "ipython",
    "version": 3
   },
   "file_extension": ".py",
   "mimetype": "text/x-python",
   "name": "python",
   "nbconvert_exporter": "python",
   "pygments_lexer": "ipython3",
   "version": "3.7.4"
  }
 },
 "nbformat": 4,
 "nbformat_minor": 2
}
